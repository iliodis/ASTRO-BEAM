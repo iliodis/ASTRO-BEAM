{
 "cells": [
  {
   "cell_type": "code",
   "execution_count": null,
   "metadata": {},
   "outputs": [],
   "source": [
    "import pandas as pd \n",
    "import matplotlib.pyplot as plt\n",
    "import numpy as np\n",
    "data=pd.read_excel('/Users/User/Downloads/spectrum_data_excel.xlsx' , header=None)\n",
    "data.columns=(\"f\", \"x\", \"y\", \"p\")\n",
    "\n",
    "# the rolling mean for power/intensity\n",
    "data['rolp']=data['p'].rolling(15).mean()\n",
    "\n",
    "#show the rest value for HI frequency\n",
    "fo = 1420.4\n",
    "\n",
    "h=np.linspace(data['p'].min(), data['p'].max(), 2048)\n",
    "x=np.full_like(h,fo)\n",
    "\n",
    "\n",
    "# find the radial velocity\n",
    "def u(f):\n",
    "    c=3*10**5\n",
    "    return ((fo -f)/fo )*c\n",
    "\n",
    "data['u']=u(data.f)\n",
    "\n",
    "def inv(u):\n",
    "    c=3*10**5\n",
    "    return fo - (u/c)*fo\n",
    "\n",
    "\n",
    "\n",
    "#visualise the data\n",
    "fig, ax1=plt.subplots()\n",
    "ax1.plot(data.f, data.p, color='midnightblue', label='raw')\n",
    "ax1.plot(data.f , data.rolp, color='coral', label='rolling mean n=20')\n",
    "ax1.plot(x,h, color='firebrick', linestyle='--', linewidth =1.5 )\n",
    "ax1.set_xlabel(\"Frequency [MHz]\")\n",
    "ax1.set_ylabel(\"Relative Power\")\n",
    "ax1.yaxis.get_ticklocs(minor=True)\n",
    "ax1.xaxis.get_ticklocs(minor=True)\n",
    "ax1.minorticks_on()\n",
    "ax1.set_box_aspect(1.0)\n",
    "\n",
    "ax2=ax1.secondary_xaxis('top', functions=(u, inv))\n",
    "ax2.set_xlabel(\"Radial Velocity [km/s]\")\n",
    "ax2.xaxis.get_ticklocs(minor=True)\n",
    "\n",
    "\n",
    "plt.grid(True, linestyle =\"solid\", c=\"lightgrey\")\n",
    "plt.title(\"spectrum for finding HI\")\n",
    "plt.legend(loc=\"upper center\",bbox_to_anchor=(0.5, -0.1), ncol=2)\n",
    "plt.subplots_adjust(bottom=0.2)\n",
    "plt.show()"
   ]
  }
 ],
 "metadata": {
  "kernelspec": {
   "display_name": "Python 3",
   "language": "python",
   "name": "python3"
  },
  "language_info": {
   "codemirror_mode": {
    "name": "ipython",
    "version": 3
   },
   "file_extension": ".py",
   "mimetype": "text/x-python",
   "name": "python",
   "nbconvert_exporter": "python",
   "pygments_lexer": "ipython3",
   "version": "3.10.0"
  }
 },
 "nbformat": 4,
 "nbformat_minor": 2
}
