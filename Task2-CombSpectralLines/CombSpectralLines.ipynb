{
 "cells": [
  {
   "cell_type": "code",
   "execution_count": 5,
   "metadata": {},
   "outputs": [
    {
     "ename": "SyntaxError",
     "evalue": "invalid syntax. Maybe you meant '==' or ':=' instead of '='? (1926302194.py, line 50)",
     "output_type": "error",
     "traceback": [
      "\u001b[1;36m  Cell \u001b[1;32mIn[5], line 50\u001b[1;36m\u001b[0m\n\u001b[1;33m    if line = True:\u001b[0m\n\u001b[1;37m       ^\u001b[0m\n\u001b[1;31mSyntaxError\u001b[0m\u001b[1;31m:\u001b[0m invalid syntax. Maybe you meant '==' or ':=' instead of '='?\n"
     ]
    }
   ],
   "source": [
    "import pandas as pd \n",
    "import matplotlib.pyplot as plt\n",
    "import numpy as np\n",
    "data=pd.read_excel('/Users/User/Downloads/spectrum_data_excel.xlsx' , header=None)\n",
    "data.columns=(\"f\", \"x\", \"y\", \"p\")\n",
    "data.f = data.f+200\n",
    "# the rolling mean for power/intensity\n",
    "data['rolp']=data['p'].rolling(15).mean()\n",
    "max_p=data['rolp'].max()\n",
    "max_f = data.loc[data['rolp'].idxmax(), 'f']\n",
    "print(max_f)\n",
    "\n",
    "#identyfying the rest frequency of the spectar line that is showing from the received data\n",
    "#first try for atoms/molecules whose rest frequencies are known\n",
    "# measuring units are MHz .\n",
    "# HI (1420.4057) , OH (1612.2310 , 1665.4018, 1667.3590) , H20 (22235.0799) , NH3 (23694.5060 , 23722.6340, 23870.1300)\n",
    "rest_values=[1420.4057, 1612.2310, 1665.4018, 1667.3590, 22235.0799, 23694.5060, 23722.6340, 23870.1300]\n",
    "df=np.abs(max_f-rest_values)\n",
    "line = False\n",
    "if np.any(df<=0.5):\n",
    "    condition=np.where(df<=0.5)[0][0]\n",
    "    fo=rest_values[condition]\n",
    "    print(fo)\n",
    "    h=np.linspace(data['p'].min(), data['p'].max())\n",
    "    x=np.full_like(h,fo)\n",
    "    line = True \n",
    "else :\n",
    "    print(\"there is no spectral line\")\n",
    "\n",
    "\n",
    "\n",
    "\n",
    "# find the radial velocity\n",
    "def u(f):\n",
    "    c=3*10**5\n",
    "    return ((fo -f)/fo )*c\n",
    "\n",
    "data['u']=u(data.f)\n",
    "\n",
    "def inv(u):\n",
    "    c=3*10**5\n",
    "    return fo - (u/c)*fo\n",
    "\n",
    "\n",
    "\n",
    "#visualise the data\n",
    "fig, ax1=plt.subplots()\n",
    "ax1.plot(data.f, data.p, color='midnightblue', label='raw')\n",
    "ax1.plot(data.f , data.rolp, color='coral', label='rolling mean n=20')\n",
    "if line :\n",
    "    ax1.plot(x,h, color='firebrick', linestyle='--', linewidth =1.5 )\n",
    "ax1.set_xlabel(\"Frequency [MHz]\")\n",
    "ax1.set_ylabel(\"Relative Power\")\n",
    "ax1.yaxis.get_ticklocs(minor=True)\n",
    "ax1.xaxis.get_ticklocs(minor=True)\n",
    "ax1.minorticks_on()\n",
    "ax1.set_box_aspect(1.0)\n",
    "\n",
    "ax2=ax1.secondary_xaxis('top', functions=(u, inv))\n",
    "ax2.set_xlabel(\"Radial Velocity [km/s]\")\n",
    "ax2.xaxis.get_ticklocs(minor=True)\n",
    "\n",
    "\n",
    "plt.grid(True, linestyle =\"solid\", c=\"lightgrey\")\n",
    "plt.title(\"spectrum for finding HI\")\n",
    "plt.legend(loc=\"upper center\",bbox_to_anchor=(0.5, -0.1), ncol=2)\n",
    "plt.subplots_adjust(bottom=0.2)\n",
    "plt.show()\n"
   ]
  }
 ],
 "metadata": {
  "kernelspec": {
   "display_name": "Python 3",
   "language": "python",
   "name": "python3"
  },
  "language_info": {
   "codemirror_mode": {
    "name": "ipython",
    "version": 3
   },
   "file_extension": ".py",
   "mimetype": "text/x-python",
   "name": "python",
   "nbconvert_exporter": "python",
   "pygments_lexer": "ipython3",
   "version": "3.10.0"
  }
 },
 "nbformat": 4,
 "nbformat_minor": 2
}
