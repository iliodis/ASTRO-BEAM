{
 "cells": [
  {
   "cell_type": "code",
   "execution_count": 31,
   "metadata": {},
   "outputs": [
    {
     "name": "stdout",
     "output_type": "stream",
     "text": [
      "              f         p\n",
      "0  20949.217978  1.558499\n",
      "1   3404.472390  1.589598\n",
      "2   3833.444116  1.412631\n",
      "3   4452.233327  1.782886\n",
      "4  17460.333468  1.637736\n",
      "5   6789.670508  1.526778\n",
      "6   7117.173693  1.744101\n",
      "7  19526.762545  1.755132\n",
      "8  14082.441155  1.722390\n",
      "9  21605.518470  1.634580\n"
     ]
    },
    {
     "ename": "NameError",
     "evalue": "name 'y' is not defined",
     "output_type": "error",
     "traceback": [
      "\u001b[1;31m---------------------------------------------------------------------------\u001b[0m",
      "\u001b[1;31mNameError\u001b[0m                                 Traceback (most recent call last)",
      "Cell \u001b[1;32mIn[31], line 28\u001b[0m\n\u001b[0;32m     24\u001b[0m             \u001b[38;5;28mprint\u001b[39m(\u001b[38;5;124m\"\u001b[39m\u001b[38;5;124mthere is no spectral line for f=\u001b[39m\u001b[38;5;124m\"\u001b[39m,x)\n\u001b[0;32m     26\u001b[0m     \u001b[38;5;28;01mreturn\u001b[39;00m  fitting(f, rest_values,p)\n\u001b[1;32m---> 28\u001b[0m \u001b[43mfitting\u001b[49m\u001b[43m(\u001b[49m\u001b[43mpoints\u001b[49m\u001b[43m[\u001b[49m\u001b[38;5;124;43m'\u001b[39;49m\u001b[38;5;124;43mf\u001b[39;49m\u001b[38;5;124;43m'\u001b[39;49m\u001b[43m]\u001b[49m\u001b[43m,\u001b[49m\u001b[43m \u001b[49m\u001b[43mrest_values\u001b[49m\u001b[43m \u001b[49m\u001b[43m,\u001b[49m\u001b[43m \u001b[49m\u001b[43mpoints\u001b[49m\u001b[43m[\u001b[49m\u001b[38;5;124;43m'\u001b[39;49m\u001b[38;5;124;43mp\u001b[39;49m\u001b[38;5;124;43m'\u001b[39;49m\u001b[43m]\u001b[49m\u001b[43m)\u001b[49m\n",
      "Cell \u001b[1;32mIn[31], line 16\u001b[0m, in \u001b[0;36mfitting\u001b[1;34m(f, rest_values, p)\u001b[0m\n\u001b[0;32m     14\u001b[0m \u001b[38;5;28;01mfor\u001b[39;00m x \u001b[38;5;129;01min\u001b[39;00m f:\n\u001b[0;32m     15\u001b[0m     valid \u001b[38;5;241m=\u001b[39m \u001b[38;5;28;01mFalse\u001b[39;00m\n\u001b[1;32m---> 16\u001b[0m     df\u001b[38;5;241m=\u001b[39mnp\u001b[38;5;241m.\u001b[39mabs(x\u001b[38;5;241m-\u001b[39m\u001b[43my\u001b[49m)\n\u001b[0;32m     17\u001b[0m     \u001b[38;5;28;01mif\u001b[39;00m np\u001b[38;5;241m.\u001b[39many(df\u001b[38;5;241m<\u001b[39m\u001b[38;5;241m=\u001b[39m\u001b[38;5;241m0.5\u001b[39m):\n\u001b[0;32m     18\u001b[0m         condition\u001b[38;5;241m=\u001b[39mnp\u001b[38;5;241m.\u001b[39mwhere(df\u001b[38;5;241m<\u001b[39m\u001b[38;5;241m=\u001b[39m\u001b[38;5;241m0.5\u001b[39m)[\u001b[38;5;241m0\u001b[39m][\u001b[38;5;241m0\u001b[39m]\n",
      "\u001b[1;31mNameError\u001b[0m: name 'y' is not defined"
     ]
    }
   ],
   "source": [
    "import pandas as pd \n",
    "import matplotlib.pyplot as plt\n",
    "import numpy as np\n",
    "\n",
    "rest_values=[1420.4057, 1612.2310, 1665.4018, 1667.3590, 22235.0799, 23694.5060, 23722.6340, 23870.1300]\n",
    "\n",
    "# random values for the frequencies\n",
    "f = np.random.uniform(1401, 24000 , 10)\n",
    "p = np.random.uniform(1.40, 1.80 , 10)\n",
    "points = pd.DataFrame(np.column_stack((f, p)) , columns=['f','p'])\n",
    "print(points)\n",
    "\n",
    "def fitting(f, rest_values,p):\n",
    "    for x in f:\n",
    "        valid = False\n",
    "        y = [True for k in range(rest_values)]\n",
    "        df=np.abs(x-y)\n",
    "        if np.any(df<=0.5):\n",
    "            condition=np.where(df<=0.5)[0][0]\n",
    "            fo=y[condition]\n",
    "            print(\"the rest line for\",x,\"is\",fo)\n",
    "            valid = True\n",
    "            break\n",
    "        else :\n",
    "            print(\"there is no spectral line for f=\",x)\n",
    "\n",
    "    return  fitting(f, rest_values,p)\n",
    "\n",
    "fitting(points['f'], rest_values , points['p'])\n",
    "\n",
    "\n",
    "\n",
    "    "
   ]
  }
 ],
 "metadata": {
  "kernelspec": {
   "display_name": "Python 3",
   "language": "python",
   "name": "python3"
  },
  "language_info": {
   "codemirror_mode": {
    "name": "ipython",
    "version": 3
   },
   "file_extension": ".py",
   "mimetype": "text/x-python",
   "name": "python",
   "nbconvert_exporter": "python",
   "pygments_lexer": "ipython3",
   "version": "3.10.0"
  }
 },
 "nbformat": 4,
 "nbformat_minor": 2
}
