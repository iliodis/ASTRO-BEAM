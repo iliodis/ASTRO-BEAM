{
 "cells": [
  {
   "cell_type": "code",
   "execution_count": 1,
   "metadata": {},
   "outputs": [],
   "source": [
    "from astropy.coordinates import EarthLocation,SkyCoord\n",
    "from astropy import units as u\n",
    "from astropy.coordinates import AltAz\n",
    "from datetime import datetime"
   ]
  },
  {
   "cell_type": "code",
   "execution_count": null,
   "metadata": {},
   "outputs": [],
   "source": []
  },
  {
   "cell_type": "code",
   "execution_count": 2,
   "metadata": {},
   "outputs": [],
   "source": [
    "def ra_dec_to_alt_az(ra,dec):\n",
    "    \"\"\"\n",
    "    Convert Right Ascension and Declination to Altitude and Azimuth.\n",
    "\n",
    "    Parameters:\n",
    "    - ra (float): Right Ascension in degrees.\n",
    "    - dec (float): Declination in degrees.\n",
    "    \n",
    "    Returns:\n",
    "    - (float, float): A tuple containing Altitude and Azimuth in degrees.\n",
    "    \"\"\"\n",
    "    #location of observation\n",
    "    observing_location = EarthLocation(lat='40.562298',lon='22.995062',height=50*u.m)\n",
    "    #time of observation and change of format\n",
    "    utc = datetime.utcnow().strftime('%Y-%m-%d %H:%M:%S')\n",
    "    aa = AltAz(location=observing_location, obstime= utc)\n",
    "\n",
    "    coord = SkyCoord(ra,dec,unit='deg')\n",
    "    coord_alt_az=coord.transform_to(aa)\n",
    "    \n",
    "    az  =coord_alt_az.az.deg\n",
    "    alt = coord_alt_az.alt.deg\n",
    "    return az,alt"
   ]
  },
  {
   "cell_type": "code",
   "execution_count": 3,
   "metadata": {},
   "outputs": [],
   "source": [
    "def alt_az_to_ra_dec(alt,az):\n",
    "    \"\"\"\n",
    "    Convert Altitude and Azimuth to Right ascension and Declination.\n",
    "\n",
    "    Parameters:\n",
    "    - al (float): Altitude in degrees.\n",
    "    - az (float): Azimuth in degrees.\n",
    "    \n",
    "    Returns:\n",
    "    - (float, float): A tuple containing Altitude and Azimuth in degrees.\n",
    "    \"\"\"\n",
    "    #location of observation\n",
    "    observing_location = EarthLocation(lat='40.562298',lon='22.995062',height=50*u.m)\n",
    "    #time of observation and change of format\n",
    "    utc = datetime.utcnow().strftime('%Y-%m-%d %H:%M:%S')\n",
    "    aa = AltAz(location=observing_location, obstime= utc)\n",
    "\n",
    "    coord = SkyCoord(alt,az,unit='deg',frame=aa)\n",
    "    coord_ra_dec=coord.transform_to('icrs')\n",
    "        \n",
    "    ra = coord_ra_dec.ra.deg\n",
    "    dec= coord_ra_dec.dec.deg\n",
    "    return ra,dec"
   ]
  }
 ],
 "metadata": {
  "kernelspec": {
   "display_name": "base",
   "language": "python",
   "name": "python3"
  },
  "language_info": {
   "codemirror_mode": {
    "name": "ipython",
    "version": 3
   },
   "file_extension": ".py",
   "mimetype": "text/x-python",
   "name": "python",
   "nbconvert_exporter": "python",
   "pygments_lexer": "ipython3",
   "version": "3.11.5"
  }
 },
 "nbformat": 4,
 "nbformat_minor": 2
}
